{
 "cells": [
  {
   "cell_type": "markdown",
   "metadata": {},
   "source": [
    "# Lab 1: Decoding the Game - Data Wrangling with Cricket JSON\n",
    "\n",
    "**Student Name:** [Your Name]\n",
    "\n",
    "**Roll Number:** [Your Roll Number]"
   ]
  },
  {
   "cell_type": "markdown",
   "metadata": {},
   "source": [
    "### 📖 Story Point\n",
    "\n",
    "Before we can predict anything, we must understand the data. Our first task as data scientists at our new sports analytics firm is to make sense of the complex JSON data feed we receive for each match. Our goal is to transform this messy, nested data into a clean, structured format that we can use for analysis and machine learning."
   ]
  },
  {
   "cell_type": "markdown",
   "metadata": {},
   "source": [
    "### 🎯 Objective\n",
    "\n",
    "Load the nested JSON data, understand its hierarchical structure, and extract key information into a flat, usable Pandas DataFrame."
   ]
  },
  {
   "cell_type": "markdown",
   "metadata": {},
   "source": [
    "### ✅ In-Class Tasks"
   ]
  },
  {
   "cell_type": "markdown",
   "metadata": {},
   "source": [
    "#### Task 1: Import Libraries and Load Data\n",
    "\n",
    "Import the necessary libraries (`json` for loading the file, `pandas` for data manipulation). Load the `get_scorecard.json` file into a Python dictionary."
   ]
  },
  {
   "cell_type": "code",
   "execution_count": null,
   "metadata": {},
   "outputs": [],
   "source": [
    "# Your code here"
   ]
  },
  {
   "cell_type": "markdown",
   "metadata": {},
   "source": [
    "#### Task 2: Navigate the Nested Structure\n",
    "\n",
    "Access and store the list of `innings` from the loaded data. The path to the innings list is `['doc'][0]['data']['score']['innings']`. Then, select the first innings (`innings[0]`)."
   ]
  },
  {
   "cell_type": "code",
   "execution_count": null,
   "metadata": {},
   "outputs": [],
   "source": [
    "# Your code here"
   ]
  },
  {
   "cell_type": "markdown",
   "metadata": {},
   "source": [
    "#### Task 3: Extract Batsmen Data\n",
    "\n",
    "From the first innings data you extracted in Task 2, access the list of `batsmen`."
   ]
  },
  {
   "cell_type": "code",
   "execution_count": null,
   "metadata": {},
   "outputs": [],
   "source": [
    "# Your code here"
   ]
  },
  {
   "cell_type": "markdown",
   "metadata": {},
   "source": [
    "#### Task 4: Create a Pandas DataFrame\n",
    "\n",
    "Convert the list of batsmen (which is a list of dictionaries) into a Pandas DataFrame. Display the first 5 rows of the DataFrame using the `.head()` method."
   ]
  },
  {
   "cell_type": "code",
   "execution_count": null,
   "metadata": {},
   "outputs": [],
   "source": [
    "# Your code here"
   ]
  },
  {
   "cell_type": "markdown",
   "metadata": {},
   "source": [
    "#### Task 5: Basic Data Cleaning & Inspection\n",
    "\n",
    "Use `.info()` to check the data types and for any missing values in your new DataFrame. Use `.describe()` to get a statistical summary of the numerical columns."
   ]
  },
  {
   "cell_type": "code",
   "execution_count": null,
   "metadata": {},
   "outputs": [],
   "source": [
    "# Your code here"
   ]
  },
  {
   "cell_type": "markdown",
   "metadata": {},
   "source": [
    "###  deliverables\n",
    "**Your final deliverable for the in-class practical is a clean, well-structured notebook and a saved `.csv` file of the first innings batting performance.**\n",
    "\n",
    "Save your DataFrame to a CSV file named `first_innings_batsmen.csv`."
   ]
  },
  {
   "cell_type": "code",
   "execution_count": null,
   "metadata": {},
   "outputs": [],
   "source": [
    "# Your code here"
   ]
  },
  {
   "cell_type": "markdown",
   "metadata": {},
   "source": [
    "---"
   ]
  },
  {
   "cell_type": "markdown",
   "metadata": {},
   "source": [
    "### 🏡 Home Task Extension\n",
    "\n",
    "To prepare for our next session, we need to consolidate all player data. Your task is to build on the in-class work by creating a reusable function.\n",
    "\n",
    "**Your Task:**\n",
    "1.  Extract the `bowlers` list from the first innings data.\n",
    "2.  Create a second DataFrame for the bowlers.\n",
    "3.  Write a Python function `extract_innings_data(innings_object)` that takes a single innings object (like the `first_innings` variable you created) as input.\n",
    "4.  The function should perform the extraction and DataFrame creation for both batsmen and bowlers, and return two DataFrames: `batsmen_df`, `bowlers_df`.\n",
    "5.  Call this function with the first innings data and display the head of both returned DataFrames."
   ]
  },
  {
   "cell_type": "code",
   "execution_count": null,
   "metadata": {},
   "outputs": [],
   "source": [
    "# Your code for the Home Task here"
   ]
  }
 ],
 "metadata": {
  "kernelspec": {
   "display_name": "Python 3",
   "language": "python",
   "name": "python3"
  },
  "language_info": {
   "codemirror_mode": {
    "name": "ipython",
    "version": 3
   },
   "file_extension": ".py",
   "mimetype": "text/x-python",
   "name": "python",
   "nbconvert_exporter": "python",
   "pygments_lexer": "ipython3",
   "version": "3.8.8"
  }
 },
 "nbformat": 4,
 "nbformat_minor": 4
}