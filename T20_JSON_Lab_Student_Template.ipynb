{
 "cells": [
  {
   "cell_type": "markdown",
   "id": "43774b25",
   "metadata": {},
   "source": [
    "# 🏏 T20 Match Scorecard - JSON Parsing Lab\n",
    "Welcome to the CI Lab session on parsing cricket match scorecards using JSON data.\n",
    "In this lab, you'll explore a simplified JSON structure of a T20 match and write Python code to extract insights.\n",
    "\n",
    "👉 **Objective**: Understand nested JSON structure and practice extraction using Python's `json` module."
   ]
  },
  {
   "cell_type": "code",
   "execution_count": null,
   "id": "31056c2e",
   "metadata": {},
   "outputs": [],
   "source": [
    "# ✅ Step 1: Load the JSON File\n",
    "import json\n",
    "\n",
    "# Load the JSON data from a file (you can also paste the JSON directly if needed)\n",
    "with open('scorecard.json') as f:\n",
    "    data = json.load(f)\n",
    "\n",
    "# Display top-level keys to explore structure\n",
    "print(data.keys())"
   ]
  },
  {
   "cell_type": "markdown",
   "id": "6fcda5a3",
   "metadata": {},
   "source": [
    "### 🔹 Q1. Print the names of both teams\n",
    "**Hint**: Use `data['match_info']['teams']` to access the list of team names."
   ]
  },
  {
   "cell_type": "code",
   "execution_count": null,
   "id": "aaa40db0",
   "metadata": {},
   "outputs": [],
   "source": [
    "# Your code here"
   ]
  },
  {
   "cell_type": "markdown",
   "id": "c212751e",
   "metadata": {},
   "source": [
    "### 🔹 Q2. Find the total runs scored in the match\n",
    "**Hint**: Loop over `data['innings']` and sum up the `runs` field."
   ]
  },
  {
   "cell_type": "code",
   "execution_count": null,
   "id": "4f52857b",
   "metadata": {},
   "outputs": [],
   "source": [
    "# Your code here"
   ]
  },
  {
   "cell_type": "markdown",
   "id": "20c112b7",
   "metadata": {},
   "source": [
    "### 🔹 Q3. Who scored the most runs in the match?\n",
    "**Hint**: You'll need to check all batsmen from both innings and compare their `runs`."
   ]
  },
  {
   "cell_type": "code",
   "execution_count": null,
   "id": "0ec3ac7b",
   "metadata": {},
   "outputs": [],
   "source": [
    "# Your code here"
   ]
  },
  {
   "cell_type": "markdown",
   "id": "09fcc086",
   "metadata": {},
   "source": [
    "### 🔹 Q4. List all bowlers who took at least 2 wickets\n",
    "**Hint**: Loop through each `bowler` in both innings and use a condition on `wickets`."
   ]
  },
  {
   "cell_type": "code",
   "execution_count": null,
   "id": "6c7e9f19",
   "metadata": {},
   "outputs": [],
   "source": [
    "# Your code here"
   ]
  },
  {
   "cell_type": "markdown",
   "id": "34ddcd63",
   "metadata": {},
   "source": [
    "### 🔹 Q5. Print strike rate of each batsman\n",
    "**Hint**: Strike rate = (Runs / Balls) * 100"
   ]
  },
  {
   "cell_type": "code",
   "execution_count": null,
   "id": "d31bb2dc",
   "metadata": {},
   "outputs": [],
   "source": [
    "# Your code here"
   ]
  },
  {
   "cell_type": "markdown",
   "id": "f752b904",
   "metadata": {},
   "source": [
    "### 🔹 Bonus: Determine which team had the better run rate\n",
    "**Hint**: Run rate = Total Runs / Overs"
   ]
  },
  {
   "cell_type": "code",
   "execution_count": null,
   "id": "d44592a4",
   "metadata": {},
   "outputs": [],
   "source": [
    "# Your code here"
   ]
  }
 ],
 "metadata": {},
 "nbformat": 4,
 "nbformat_minor": 5
}
